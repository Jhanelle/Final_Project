{
 "cells": [
  {
   "cell_type": "code",
   "execution_count": 1,
   "metadata": {
    "collapsed": true
   },
   "outputs": [],
   "source": [
    "# Isaac Menninga, 2015\n",
    "# script to load data for one country\n",
    "import pandas as pd"
   ]
  },
  {
   "cell_type": "code",
   "execution_count": 27,
   "metadata": {
    "collapsed": false
   },
   "outputs": [],
   "source": [
    "# load conflict data\n",
    "def load_conflict_data(country_name):\n",
    "    path = \"../data/ACLED/\" + country_name + '.xlsx'\n",
    "    data = pd.read_excel(path)\n",
    "    data = data[['EVENT_DATE', 'YEAR', 'EVENT_TYPE', 'ACTOR1', 'LOCATION', 'FATALITIES']]\n",
    "    return(data)\n",
    "\n",
    "#load climate data\n",
    "def load_climate_data(country_name):\n",
    "    extremes_variables = {'f_extreme_heat' : 'TX90p.hadex.abs', 'f_extreme_cold' : 'TX10p.hadex.abs', 'f_heavy_rain' : 'R95pct.hadex.anom'}\n",
    "    mean_variables = {'temperature' : 'temp.cru.abs', 'precipitation' : 'precip.cru.abs'}\n",
    "    directories = ['/Extremes/Timeseries/', '/Mean/Timeseries/Absolute/']\n",
    "    for directory in directories:\n",
    "        if directory == '/Extremes/Timeseries/':\n",
    "            for variable in extremes_variables:\n",
    "                path = '../data/climate/' + country_name + directory + country_name + '.ts.obs.' + extremes_variables[variable]\n",
    "\n",
    "        elif directory == '/Mean/Timeseries/Absolute/':\n",
    "            for variable in mean_variables:\n",
    "                path = '../data/climate/' + country_name + directory + country_name + '.ts.obs.' + mean_variables[variable]\n"
   ]
  },
  {
   "cell_type": "code",
   "execution_count": 28,
   "metadata": {
    "collapsed": false
   },
   "outputs": [
    {
     "name": "stdout",
     "output_type": "stream",
     "text": [
      "../data/climate/Benin/Extremes/Timeseries/Benin.ts.obs.TX10p.hadex.abs\n",
      "../data/climate/Benin/Extremes/Timeseries/Benin.ts.obs.R95pct.hadex.anom\n",
      "../data/climate/Benin/Extremes/Timeseries/Benin.ts.obs.TX90p.hadex.abs\n",
      "../data/climate/Benin/Mean/Timeseries/Absolute/Benin.ts.obs.temp.cru.abs\n",
      "../data/climate/Benin/Mean/Timeseries/Absolute/Benin.ts.obs.precip.cru.abs\n"
     ]
    }
   ],
   "source": [
    "load_climate_data('Benin')"
   ]
  },
  {
   "cell_type": "code",
   "execution_count": null,
   "metadata": {
    "collapsed": true
   },
   "outputs": [],
   "source": []
  },
  {
   "cell_type": "code",
   "execution_count": null,
   "metadata": {
    "collapsed": true
   },
   "outputs": [],
   "source": []
  },
  {
   "cell_type": "code",
   "execution_count": null,
   "metadata": {
    "collapsed": true
   },
   "outputs": [],
   "source": []
  },
  {
   "cell_type": "code",
   "execution_count": null,
   "metadata": {
    "collapsed": true
   },
   "outputs": [],
   "source": []
  }
 ],
 "metadata": {
  "kernelspec": {
   "display_name": "Python 3",
   "language": "python",
   "name": "python3"
  },
  "language_info": {
   "codemirror_mode": {
    "name": "ipython",
    "version": 3
   },
   "file_extension": ".py",
   "mimetype": "text/x-python",
   "name": "python",
   "nbconvert_exporter": "python",
   "pygments_lexer": "ipython3",
   "version": "3.4.3"
  }
 },
 "nbformat": 4,
 "nbformat_minor": 0
}
