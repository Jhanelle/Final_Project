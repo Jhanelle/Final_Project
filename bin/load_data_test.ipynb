{
 "cells": [
  {
   "cell_type": "code",
   "execution_count": 2,
   "metadata": {
    "collapsed": true
   },
   "outputs": [],
   "source": [
    "# Isaac Menninga, 2015\n",
    "# script to load data for one country\n",
    "import pandas as pd\n",
    "import matplotlib.pyplot as plt"
   ]
  },
  {
   "cell_type": "code",
   "execution_count": 119,
   "metadata": {
    "collapsed": false
   },
   "outputs": [],
   "source": [
    "# load conflict data\n",
    "def load_conflict_data(country_name):\n",
    "    '''This function is used to grab data on conflict occurances in a specific country. \n",
    "    The function takes one input, which is the name of the country you want to grab data for. Returns the data as a pandas data frame.'''\n",
    "    \n",
    "    #path is a string containing the path for the data files\n",
    "    path = \"../data/ACLED/\" + country_name + '.xlsx'\n",
    "\n",
    "    #read from excel file\n",
    "    data = pd.read_excel(path)\n",
    "\n",
    "    #only return necessary columns\n",
    "    data = data[['EVENT_DATE', 'YEAR', 'EVENT_TYPE', 'ACTOR1', 'LOCATION', 'FATALITIES']]\n",
    "    return(data)\n",
    "\n",
    "#load climate data\n",
    "def load_climate_data(country_name):\n",
    "    '''This function is used to grab data on climate for each country.\n",
    "    The function takes one input, which is the name of the country to grab data on. The function returns the data as a pandas data frame.'''\n",
    "    \n",
    "    #extreme variables is a dictionary containing the file extension corresponding to each variable for extreme weather patterns\n",
    "    extremes_variables = {'f_extreme_heat' : 'TX90p.hadex.abs', 'f_extreme_cold' : 'TX10p.hadex.abs', 'f_heavy_rain' : 'R95pct.hadex.anom'}\n",
    "\n",
    "    #mean variables is a dictionary containing the file extension corresponding to each variable for mean temperature and precipitation\n",
    "    mean_variables = {'temperature' : 'temp.cru.abs', 'precipitation' : 'precip.cru.abs'}\n",
    "\n",
    "    #contains the file path for each group of variables\n",
    "    #Extremes/... contains data on extreme weather, Mean/... contains mean temperature and precipitation data\n",
    "    directories = ['/Observed/Extremes/Timeseries/', '/Observed/Mean/Timeseries/Absolute/']\n",
    "    \n",
    "    data = pd.DataFrame()\n",
    "    # for each group of variables\n",
    "    for directory in directories:\n",
    "        # if the data is for extremes, iterate over extremes_variables and gets the final path for each file to grab\n",
    "        if directory == '/Observed/Extremes/Timeseries/':\n",
    "            #gets the variable name from a list of variables\n",
    "            #each variable corresponds to the end of the name of the file\n",
    "            for variable in extremes_variables:\n",
    "                #path is equal to the file path for the data file containing data on the current variable\n",
    "                #concatonates country name, directory names and file names to form the specific file path\n",
    "                path = '../data/climate/' + country_name + directory + country_name + '.ts.obs.' + extremes_variables[variable] + '.txt'\n",
    "                \n",
    "                #if the data frame is empty, set data equal to the contents of the first file\n",
    "                if data.empty:\n",
    "                    data = pd.read_table(path, delimiter = '\\s+', header = 7)\n",
    "                    \n",
    "                #if the data frame is not empty, concatonate the data from the second file to the first\n",
    "                else:\n",
    "                    data_2 = pd.read_table(path, delimiter = '\\s+', header = 7)\n",
    "                    data = pd.concat([data, data_2], axis = 1)   \n",
    "\n",
    "        # if the data is for means, iterate over mean_variables and get the final path for each data file\n",
    "        elif directory == '/Observed/Mean/Timeseries/Absolute/':\n",
    "            #gets the variable name from a list of variables\n",
    "            #each variable corresponds to the end of the name of the file\n",
    "            for variable in mean_variables:\n",
    "                #path is equal to the file path for the data file containing data on the current variable\n",
    "                #concatonates country name, directory names and file names to form the specific file path\n",
    "                path = '../data/climate/' + country_name + directory + country_name + '.ts.obs.' + mean_variables[variable] + '.txt'\n",
    "                \n",
    "                #if the data frame is empty, set data equal to the contents of the first file\n",
    "                if data.empty:\n",
    "                    data = pd.read_table(path, delimiter = '\\s+', header = 7)\n",
    "                    \n",
    "                #if the data frame is not empty, concatonate the data from the second file to the first\n",
    "                else:\n",
    "                    data_2 = pd.read_table(path, delimiter = '\\s+', header = 7)\n",
    "                    data = pd.concat([data, data_2], axis = 1)   \n",
    "    \n",
    "    #renames columns to clarify which variable corresponds to which set of months\n",
    "    #note: DJF = Dec., Jan., Feb., MAM = Mar., Apr., May., ... etc.\n",
    "    data.columns = ['YEAR', 'Annual TX90p', 'DJF TX90p', 'MAM TX90p', 'JJA TX90p', 'SON TX90p', 'YEAR', 'Annual TX10p', 'DJF TX10p', 'MAM TX10p', 'JJA TX10p', 'SON TX10p', 'YEAR', 'Annual R95pct', 'DJF R95pct', 'MAM R95pct', 'JJA R95pct', 'SON R95pct', 'YEAR', 'Annual precip', 'JFM precip', 'AMJ precip', 'JAS precip', 'OND precip', 'YEAR', 'Annual temp', 'JFM temp', 'AMJ temp', 'JAS temp', 'OND temp']\n",
    "    \n",
    "    #sets index to year for data range from available data\n",
    "    data.index = list(range(1960, 1960 + len(data.index)))\n",
    "    \n",
    "    #deletes unnecessary year columns\n",
    "    del data['YEAR']\n",
    "    \n",
    "    #return final formatted data frame\n",
    "    return data"
   ]
  },
  {
   "cell_type": "code",
   "execution_count": 120,
   "metadata": {
    "collapsed": false
   },
   "outputs": [],
   "source": [
    "data = load_climate_data('Guinea')"
   ]
  },
  {
   "cell_type": "code",
   "execution_count": 116,
   "metadata": {
    "collapsed": false
   },
   "outputs": [
    {
     "name": "stdout",
     "output_type": "stream",
     "text": [
      "      Annual TX90p  DJF TX90p  MAM TX90p  JJA TX90p  SON TX90p  Annual TX10p  \\\n",
      "1960          5.23       2.21       4.59       5.73        NaN          9.27   \n",
      "1961          5.46       4.29       7.04       3.71        NaN         10.52   \n",
      "1962          7.01      25.78       5.13       8.63        NaN         13.02   \n",
      "1963         17.98      12.92       9.18      25.64        NaN         10.03   \n",
      "1964          8.33      10.70      19.04       2.73        NaN         10.91   \n",
      "\n",
      "      DJF TX10p  MAM TX10p  JJA TX10p  SON TX10p    ...     Annual precip  \\\n",
      "1960      18.69       9.40      10.00       8.97    ...            165.34   \n",
      "1961       4.86       7.96      19.71       4.60    ...            156.36   \n",
      "1962       9.28      16.85       8.30      14.33    ...            162.50   \n",
      "1963       3.25      10.42       9.79      15.03    ...            166.90   \n",
      "1964      17.20       9.41      13.20      12.26    ...            145.24   \n",
      "\n",
      "      JFM precip  AMJ precip  JAS precip  OND precip  Annual temp  JFM temp  \\\n",
      "1960       14.29      157.76      419.36       69.97        25.65     26.58   \n",
      "1961       17.21      135.36      387.61       85.27        25.55     25.84   \n",
      "1962       17.05      157.46      359.50      116.01        25.77     25.97   \n",
      "1963       11.96      142.80      405.27      107.58        25.46     25.83   \n",
      "1964       20.35      151.07      318.82       90.71        25.70     25.73   \n",
      "\n",
      "      AMJ temp  JAS temp  OND temp  \n",
      "1960     26.92     24.15     24.95  \n",
      "1961     27.14     24.53     24.68  \n",
      "1962     27.33     24.83     24.98  \n",
      "1963     27.07     24.38     24.55  \n",
      "1964     26.80     24.90     25.35  \n",
      "\n",
      "[5 rows x 25 columns]\n"
     ]
    }
   ],
   "source": []
  },
  {
   "cell_type": "code",
   "execution_count": null,
   "metadata": {
    "collapsed": true
   },
   "outputs": [],
   "source": []
  },
  {
   "cell_type": "code",
   "execution_count": null,
   "metadata": {
    "collapsed": true
   },
   "outputs": [],
   "source": []
  },
  {
   "cell_type": "code",
   "execution_count": null,
   "metadata": {
    "collapsed": true
   },
   "outputs": [],
   "source": []
  }
 ],
 "metadata": {
  "kernelspec": {
   "display_name": "Python 3",
   "language": "python",
   "name": "python3"
  },
  "language_info": {
   "codemirror_mode": {
    "name": "ipython",
    "version": 3
   },
   "file_extension": ".py",
   "mimetype": "text/x-python",
   "name": "python",
   "nbconvert_exporter": "python",
   "pygments_lexer": "ipython3",
   "version": "3.4.3"
  }
 },
 "nbformat": 4,
 "nbformat_minor": 0
}
